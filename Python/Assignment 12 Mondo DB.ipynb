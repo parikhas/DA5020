{
 "cells": [
  {
   "cell_type": "code",
   "execution_count": 1,
   "metadata": {},
   "outputs": [],
   "source": [
    "import pandas as pd\n",
    "import numpy as np"
   ]
  },
  {
   "cell_type": "code",
   "execution_count": 2,
   "metadata": {},
   "outputs": [],
   "source": [
    "authors = pd.read_csv('authors.csv')\n",
    "books = pd.read_csv('Books.csv')\n",
    "publishers = pd.read_csv('Publishers.csv')\n",
    "users = pd.read_csv('Users.csv')"
   ]
  },
  {
   "cell_type": "code",
   "execution_count": 3,
   "metadata": {},
   "outputs": [
    {
     "data": {
      "text/html": [
       "<div>\n",
       "<style scoped>\n",
       "    .dataframe tbody tr th:only-of-type {\n",
       "        vertical-align: middle;\n",
       "    }\n",
       "\n",
       "    .dataframe tbody tr th {\n",
       "        vertical-align: top;\n",
       "    }\n",
       "\n",
       "    .dataframe thead th {\n",
       "        text-align: right;\n",
       "    }\n",
       "</style>\n",
       "<table border=\"1\" class=\"dataframe\">\n",
       "  <thead>\n",
       "    <tr style=\"text-align: right;\">\n",
       "      <th></th>\n",
       "      <th>first name</th>\n",
       "      <th>last name</th>\n",
       "      <th>dob</th>\n",
       "    </tr>\n",
       "  </thead>\n",
       "  <tbody>\n",
       "    <tr>\n",
       "      <th>0</th>\n",
       "      <td>Danielle</td>\n",
       "      <td>Steele</td>\n",
       "      <td>3/2/1967</td>\n",
       "    </tr>\n",
       "    <tr>\n",
       "      <th>1</th>\n",
       "      <td>Donald</td>\n",
       "      <td>Knuth</td>\n",
       "      <td>1/10/1938</td>\n",
       "    </tr>\n",
       "    <tr>\n",
       "      <th>2</th>\n",
       "      <td>Brian</td>\n",
       "      <td>Kernigan</td>\n",
       "      <td>2/28/1951</td>\n",
       "    </tr>\n",
       "    <tr>\n",
       "      <th>3</th>\n",
       "      <td>Herbert</td>\n",
       "      <td>Schild</td>\n",
       "      <td>2/28/1951</td>\n",
       "    </tr>\n",
       "    <tr>\n",
       "      <th>4</th>\n",
       "      <td>Larry</td>\n",
       "      <td>Wall</td>\n",
       "      <td>9/27/1957</td>\n",
       "    </tr>\n",
       "  </tbody>\n",
       "</table>\n",
       "</div>"
      ],
      "text/plain": [
       "  first name last name         dob\n",
       "0   Danielle     Steele   3/2/1967\n",
       "1     Donald      Knuth  1/10/1938\n",
       "2      Brian   Kernigan  2/28/1951\n",
       "3    Herbert     Schild  2/28/1951\n",
       "4      Larry       Wall  9/27/1957"
      ]
     },
     "execution_count": 3,
     "metadata": {},
     "output_type": "execute_result"
    }
   ],
   "source": [
    "authors.head(10)"
   ]
  },
  {
   "cell_type": "code",
   "execution_count": 4,
   "metadata": {},
   "outputs": [],
   "source": [
    "books = pd.read_csv('Books.csv')\n",
    "# There was an issue in the '.' in the column names so renaming them\n",
    "books = books.rename(columns={'publisher.1':'publisher1','subjects.1': 'subjects1', 'notesuser.1': 'notesuer1','notebody.1': 'notebody1'})"
   ]
  },
  {
   "cell_type": "code",
   "execution_count": 5,
   "metadata": {},
   "outputs": [
    {
     "data": {
      "text/html": [
       "<div>\n",
       "<style scoped>\n",
       "    .dataframe tbody tr th:only-of-type {\n",
       "        vertical-align: middle;\n",
       "    }\n",
       "\n",
       "    .dataframe tbody tr th {\n",
       "        vertical-align: top;\n",
       "    }\n",
       "\n",
       "    .dataframe thead th {\n",
       "        text-align: right;\n",
       "    }\n",
       "</style>\n",
       "<table border=\"1\" class=\"dataframe\">\n",
       "  <thead>\n",
       "    <tr style=\"text-align: right;\">\n",
       "      <th></th>\n",
       "      <th>title</th>\n",
       "      <th>author</th>\n",
       "      <th>isbn</th>\n",
       "      <th>publisher</th>\n",
       "      <th>publisher1</th>\n",
       "      <th>available</th>\n",
       "      <th>pages</th>\n",
       "      <th>summary</th>\n",
       "      <th>subjects</th>\n",
       "      <th>subjects1</th>\n",
       "      <th>notesuser</th>\n",
       "      <th>notebody</th>\n",
       "      <th>notesuer1</th>\n",
       "      <th>notebody1</th>\n",
       "      <th>language</th>\n",
       "    </tr>\n",
       "  </thead>\n",
       "  <tbody>\n",
       "    <tr>\n",
       "      <th>0</th>\n",
       "      <td>Southern Lights</td>\n",
       "      <td>Danielle Steel</td>\n",
       "      <td>303041974</td>\n",
       "      <td>Random House</td>\n",
       "      <td>Penguin Publishers</td>\n",
       "      <td>Y</td>\n",
       "      <td>2042</td>\n",
       "      <td>Danielle Steel sweeps us from a Manhattan cour...</td>\n",
       "      <td>Fiction</td>\n",
       "      <td>Romance</td>\n",
       "      <td>jason</td>\n",
       "      <td>Nice book. Must Read</td>\n",
       "      <td>jen</td>\n",
       "      <td>Nice book. I have been traveling a lot, so I l...</td>\n",
       "      <td>English</td>\n",
       "    </tr>\n",
       "    <tr>\n",
       "      <th>1</th>\n",
       "      <td>Concrete Mathematics</td>\n",
       "      <td>Donald Knuth</td>\n",
       "      <td>0-203-03803-1</td>\n",
       "      <td>Addison-Wesley</td>\n",
       "      <td>NaN</td>\n",
       "      <td>Y</td>\n",
       "      <td>3524</td>\n",
       "      <td>Concrete Mathematics: A Foundation for Compute...</td>\n",
       "      <td>Mathematics</td>\n",
       "      <td>Algebra</td>\n",
       "      <td>NaN</td>\n",
       "      <td>NaN</td>\n",
       "      <td>NaN</td>\n",
       "      <td>NaN</td>\n",
       "      <td>English</td>\n",
       "    </tr>\n",
       "  </tbody>\n",
       "</table>\n",
       "</div>"
      ],
      "text/plain": [
       "                  title          author           isbn       publisher  \\\n",
       "0       Southern Lights  Danielle Steel      303041974    Random House   \n",
       "1  Concrete Mathematics    Donald Knuth  0-203-03803-1  Addison-Wesley   \n",
       "\n",
       "           publisher1 available  pages  \\\n",
       "0  Penguin Publishers         Y   2042   \n",
       "1                 NaN         Y   3524   \n",
       "\n",
       "                                             summary     subjects subjects1  \\\n",
       "0  Danielle Steel sweeps us from a Manhattan cour...      Fiction   Romance   \n",
       "1  Concrete Mathematics: A Foundation for Compute...  Mathematics   Algebra   \n",
       "\n",
       "  notesuser              notebody notesuer1  \\\n",
       "0     jason  Nice book. Must Read       jen   \n",
       "1       NaN                   NaN       NaN   \n",
       "\n",
       "                                           notebody1 language  \n",
       "0  Nice book. I have been traveling a lot, so I l...  English  \n",
       "1                                                NaN  English  "
      ]
     },
     "execution_count": 5,
     "metadata": {},
     "output_type": "execute_result"
    }
   ],
   "source": [
    "books.head()"
   ]
  },
  {
   "cell_type": "code",
   "execution_count": 6,
   "metadata": {},
   "outputs": [
    {
     "data": {
      "text/html": [
       "<div>\n",
       "<style scoped>\n",
       "    .dataframe tbody tr th:only-of-type {\n",
       "        vertical-align: middle;\n",
       "    }\n",
       "\n",
       "    .dataframe tbody tr th {\n",
       "        vertical-align: top;\n",
       "    }\n",
       "\n",
       "    .dataframe thead th {\n",
       "        text-align: right;\n",
       "    }\n",
       "</style>\n",
       "<table border=\"1\" class=\"dataframe\">\n",
       "  <thead>\n",
       "    <tr style=\"text-align: right;\">\n",
       "      <th></th>\n",
       "      <th>name</th>\n",
       "      <th>date</th>\n",
       "      <th>street</th>\n",
       "      <th>city</th>\n",
       "      <th>zip</th>\n",
       "      <th>state</th>\n",
       "      <th>country</th>\n",
       "    </tr>\n",
       "  </thead>\n",
       "  <tbody>\n",
       "    <tr>\n",
       "      <th>0</th>\n",
       "      <td>Random House</td>\n",
       "      <td>4/23/2002</td>\n",
       "      <td>1475 Broadway</td>\n",
       "      <td>New York</td>\n",
       "      <td>10019</td>\n",
       "      <td>New York</td>\n",
       "      <td>US</td>\n",
       "    </tr>\n",
       "    <tr>\n",
       "      <th>1</th>\n",
       "      <td>Random House</td>\n",
       "      <td>4/23/2002</td>\n",
       "      <td>375 Hudson Street</td>\n",
       "      <td>New York</td>\n",
       "      <td>10014</td>\n",
       "      <td>New York</td>\n",
       "      <td>US</td>\n",
       "    </tr>\n",
       "    <tr>\n",
       "      <th>2</th>\n",
       "      <td>Penguin Publishers</td>\n",
       "      <td>1/19/1998</td>\n",
       "      <td>140 Broadway</td>\n",
       "      <td>New York</td>\n",
       "      <td>10013</td>\n",
       "      <td>New York</td>\n",
       "      <td>US</td>\n",
       "    </tr>\n",
       "    <tr>\n",
       "      <th>3</th>\n",
       "      <td>Addison-Wesley</td>\n",
       "      <td>3/1/1994</td>\n",
       "      <td>75 Arlington Street</td>\n",
       "      <td>Boston</td>\n",
       "      <td>2116</td>\n",
       "      <td>Massachusetts</td>\n",
       "      <td>US</td>\n",
       "    </tr>\n",
       "  </tbody>\n",
       "</table>\n",
       "</div>"
      ],
      "text/plain": [
       "                 name       date               street      city    zip  \\\n",
       "0        Random House  4/23/2002        1475 Broadway  New York  10019   \n",
       "1        Random House  4/23/2002    375 Hudson Street  New York  10014   \n",
       "2  Penguin Publishers  1/19/1998         140 Broadway  New York  10013   \n",
       "3      Addison-Wesley   3/1/1994  75 Arlington Street    Boston   2116   \n",
       "\n",
       "           state country  \n",
       "0       New York      US  \n",
       "1       New York      US  \n",
       "2       New York      US  \n",
       "3  Massachusetts      US  "
      ]
     },
     "execution_count": 6,
     "metadata": {},
     "output_type": "execute_result"
    }
   ],
   "source": [
    "publishers.head(10)"
   ]
  },
  {
   "cell_type": "code",
   "execution_count": 7,
   "metadata": {},
   "outputs": [
    {
     "data": {
      "text/html": [
       "<div>\n",
       "<style scoped>\n",
       "    .dataframe tbody tr th:only-of-type {\n",
       "        vertical-align: middle;\n",
       "    }\n",
       "\n",
       "    .dataframe tbody tr th {\n",
       "        vertical-align: top;\n",
       "    }\n",
       "\n",
       "    .dataframe thead th {\n",
       "        text-align: right;\n",
       "    }\n",
       "</style>\n",
       "<table border=\"1\" class=\"dataframe\">\n",
       "  <thead>\n",
       "    <tr style=\"text-align: right;\">\n",
       "      <th></th>\n",
       "      <th>username</th>\n",
       "      <th>password</th>\n",
       "      <th>active</th>\n",
       "      <th>street</th>\n",
       "      <th>city</th>\n",
       "      <th>zip</th>\n",
       "      <th>state</th>\n",
       "      <th>country</th>\n",
       "      <th>dateOfCreation</th>\n",
       "    </tr>\n",
       "  </thead>\n",
       "  <tbody>\n",
       "    <tr>\n",
       "      <th>0</th>\n",
       "      <td>ashley</td>\n",
       "      <td>ashley</td>\n",
       "      <td>Y</td>\n",
       "      <td>170 Commonwealth Avenue</td>\n",
       "      <td>Boston</td>\n",
       "      <td>02140</td>\n",
       "      <td>Massachusetts</td>\n",
       "      <td>US</td>\n",
       "      <td>4/20/2014</td>\n",
       "    </tr>\n",
       "    <tr>\n",
       "      <th>1</th>\n",
       "      <td>ashley</td>\n",
       "      <td>ashley</td>\n",
       "      <td>Y</td>\n",
       "      <td>10 Park Avenue</td>\n",
       "      <td>Boston</td>\n",
       "      <td>02140</td>\n",
       "      <td>Massachusetts</td>\n",
       "      <td>US</td>\n",
       "      <td>4/20/2014</td>\n",
       "    </tr>\n",
       "    <tr>\n",
       "      <th>2</th>\n",
       "      <td>jason</td>\n",
       "      <td>jason</td>\n",
       "      <td>Y</td>\n",
       "      <td>70 Peterbourough Street</td>\n",
       "      <td>Boston</td>\n",
       "      <td>02145</td>\n",
       "      <td>Massachusetts</td>\n",
       "      <td>US</td>\n",
       "      <td>9/20/2015</td>\n",
       "    </tr>\n",
       "    <tr>\n",
       "      <th>3</th>\n",
       "      <td>jason</td>\n",
       "      <td>jason</td>\n",
       "      <td>Y</td>\n",
       "      <td>2 Downtown</td>\n",
       "      <td>Boston</td>\n",
       "      <td>02143</td>\n",
       "      <td>Massachusetts</td>\n",
       "      <td>US</td>\n",
       "      <td>9/20/2015</td>\n",
       "    </tr>\n",
       "    <tr>\n",
       "      <th>4</th>\n",
       "      <td>admin</td>\n",
       "      <td>admin</td>\n",
       "      <td>Y</td>\n",
       "      <td>10 Geng Road</td>\n",
       "      <td>Palo Alto</td>\n",
       "      <td>94303</td>\n",
       "      <td>California</td>\n",
       "      <td>US</td>\n",
       "      <td>1/4/2014</td>\n",
       "    </tr>\n",
       "    <tr>\n",
       "      <th>5</th>\n",
       "      <td>jen</td>\n",
       "      <td>jen</td>\n",
       "      <td>N</td>\n",
       "      <td>Geng Road</td>\n",
       "      <td>Palo Alto</td>\n",
       "      <td>94303</td>\n",
       "      <td>California</td>\n",
       "      <td>US</td>\n",
       "      <td>11/25/2013</td>\n",
       "    </tr>\n",
       "    <tr>\n",
       "      <th>6</th>\n",
       "      <td>rose</td>\n",
       "      <td>rosie</td>\n",
       "      <td>60 Park Avenue</td>\n",
       "      <td>Boston</td>\n",
       "      <td>02140</td>\n",
       "      <td>Massachusetts</td>\n",
       "      <td>US</td>\n",
       "      <td>4/20/2015</td>\n",
       "      <td>NaN</td>\n",
       "    </tr>\n",
       "  </tbody>\n",
       "</table>\n",
       "</div>"
      ],
      "text/plain": [
       "  username password          active                   street       city  \\\n",
       "0   ashley   ashley               Y  170 Commonwealth Avenue     Boston   \n",
       "1   ashley   ashley               Y           10 Park Avenue     Boston   \n",
       "2    jason    jason               Y  70 Peterbourough Street     Boston   \n",
       "3    jason    jason               Y               2 Downtown     Boston   \n",
       "4    admin    admin               Y             10 Geng Road  Palo Alto   \n",
       "5      jen      jen               N                Geng Road  Palo Alto   \n",
       "6     rose    rosie  60 Park Avenue                   Boston      02140   \n",
       "\n",
       "             zip          state    country dateOfCreation  \n",
       "0          02140  Massachusetts         US      4/20/2014  \n",
       "1          02140  Massachusetts         US      4/20/2014  \n",
       "2          02145  Massachusetts         US      9/20/2015  \n",
       "3          02143  Massachusetts         US      9/20/2015  \n",
       "4          94303     California         US       1/4/2014  \n",
       "5          94303     California         US     11/25/2013  \n",
       "6  Massachusetts             US  4/20/2015            NaN  "
      ]
     },
     "execution_count": 7,
     "metadata": {},
     "output_type": "execute_result"
    }
   ],
   "source": [
    "users.head(10)"
   ]
  },
  {
   "cell_type": "code",
   "execution_count": 8,
   "metadata": {},
   "outputs": [],
   "source": [
    "import pymongo\n",
    "# Create a MongoClient object\n",
    "myclient = pymongo.MongoClient(\"mongodb://localhost:27017/\")\n",
    "# Create a database called \"mydatabase\":\n",
    "mydb = myclient[\"mondoDatabase\"]"
   ]
  },
  {
   "cell_type": "code",
   "execution_count": 9,
   "metadata": {},
   "outputs": [],
   "source": [
    "data = authors.to_dict(orient='records')  # needed before inserting df into mondo"
   ]
  },
  {
   "cell_type": "code",
   "execution_count": 10,
   "metadata": {},
   "outputs": [
    {
     "data": {
      "text/plain": [
       "<pymongo.results.InsertManyResult at 0x7f357c8d9248>"
      ]
     },
     "execution_count": 10,
     "metadata": {},
     "output_type": "execute_result"
    }
   ],
   "source": [
    "# Insert the authors df into the mongo db\n",
    "mydb.myCollection.insert_many(data)"
   ]
  },
  {
   "cell_type": "code",
   "execution_count": 11,
   "metadata": {},
   "outputs": [
    {
     "name": "stdout",
     "output_type": "stream",
     "text": [
      "['admin', 'config', 'local', 'mondoDatabase', 'pymongo_test', 'test']\n"
     ]
    }
   ],
   "source": [
    "# Print the list of databases (mongo db isn't actually created till it has atleast one record inserted into it)\n",
    "print(myclient.list_database_names())"
   ]
  },
  {
   "cell_type": "code",
   "execution_count": 12,
   "metadata": {},
   "outputs": [
    {
     "data": {
      "text/plain": [
       "<pymongo.results.InsertManyResult at 0x7f357c8d9a88>"
      ]
     },
     "execution_count": 12,
     "metadata": {},
     "output_type": "execute_result"
    }
   ],
   "source": [
    "# Add the rest of the dataframes into the mongo db\n",
    "\n",
    "users = users.to_dict(orient='records')  # needed before inserting df into mondo\n",
    "publishers = publishers.to_dict(orient='records')\n",
    "books = books.to_dict(orient='records')\n",
    "\n",
    "mydb.myCollection.insert_many(users)\n",
    "mydb.myCollection.insert_many(publishers)\n",
    "mydb.myCollection.insert_many(books)"
   ]
  },
  {
   "cell_type": "code",
   "execution_count": 13,
   "metadata": {},
   "outputs": [
    {
     "data": {
      "text/plain": [
       "2"
      ]
     },
     "execution_count": 13,
     "metadata": {},
     "output_type": "execute_result"
    }
   ],
   "source": [
    "#2. Write Mongo expressions to answer the following queries: (50 points) \n",
    "#+ 2.0 How many books are in the collection?\n",
    "#There are 2 books in the collection\n",
    "b = mydb.myCollection.find().distinct(\"title\")\n",
    "len(b)"
   ]
  },
  {
   "cell_type": "code",
   "execution_count": 66,
   "metadata": {},
   "outputs": [
    {
     "name": "stdout",
     "output_type": "stream",
     "text": [
      "{'_id': ObjectId('5c37ec7c8f455e12a0864341'), 'dob': '3/2/1967', 'last name ': 'Steele', 'first name': 'Danielle'}\n",
      "{'_id': ObjectId('5c37ec7c8f455e12a0864342'), 'dob': '1/10/1938', 'last name ': 'Knuth', 'first name': 'Donald'}\n",
      "{'_id': ObjectId('5c37ec7c8f455e12a0864343'), 'dob': '2/28/1951', 'last name ': 'Kernigan', 'first name': 'Brian'}\n",
      "{'_id': ObjectId('5c37ec7c8f455e12a0864344'), 'dob': '2/28/1951', 'last name ': 'Schild', 'first name': 'Herbert'}\n",
      "{'_id': ObjectId('5c37ec7c8f455e12a0864345'), 'dob': '9/27/1957', 'last name ': 'Wall', 'first name': 'Larry'}\n",
      "{'country': 'US', 'password': 'ashley', 'zip': '02140', 'street': '170 Commonwealth Avenue', 'city': 'Boston', 'active': 'Y', '_id': ObjectId('5c37f0668f455e12a0864346'), 'username': 'ashley', 'dateOfCreation': '4/20/2014', 'state': 'Massachusetts'}\n",
      "{'country': 'US', 'password': 'ashley', 'zip': '02140', 'street': '10 Park Avenue', 'city': 'Boston', 'active': 'Y', '_id': ObjectId('5c37f0668f455e12a0864347'), 'username': 'ashley', 'dateOfCreation': '4/20/2014', 'state': 'Massachusetts'}\n",
      "{'country': 'US', 'password': 'jason', 'zip': '02145', 'street': '70 Peterbourough Street', 'city': 'Boston', 'active': 'Y', '_id': ObjectId('5c37f0668f455e12a0864348'), 'username': 'jason', 'dateOfCreation': '9/20/2015', 'state': 'Massachusetts'}\n",
      "{'country': 'US', 'password': 'jason', 'zip': '02143', 'street': '2 Downtown', 'city': 'Boston', 'active': 'Y', '_id': ObjectId('5c37f0668f455e12a0864349'), 'username': 'jason', 'dateOfCreation': '9/20/2015', 'state': 'Massachusetts'}\n",
      "{'country': 'US', 'password': 'admin', 'zip': '94303', 'street': '10 Geng Road', 'city': 'Palo Alto', 'active': 'Y', '_id': ObjectId('5c37f0668f455e12a086434a'), 'username': 'admin', 'dateOfCreation': '1/4/2014', 'state': 'California'}\n",
      "{'country': 'US', 'password': 'jen', 'zip': '94303', 'street': 'Geng Road', 'city': 'Palo Alto', 'active': 'N', '_id': ObjectId('5c37f0668f455e12a086434b'), 'username': 'jen', 'dateOfCreation': '11/25/2013', 'state': 'California'}\n",
      "{'country': '4/20/2015', 'password': 'rosie', 'zip': 'Massachusetts', 'street': 'Boston', 'city': '02140', 'active': '60 Park Avenue', '_id': ObjectId('5c37f0668f455e12a086434c'), 'username': 'rose', 'dateOfCreation': nan, 'state': 'US'}\n",
      "{'country': 'US', 'city': 'New York', 'street': '1475 Broadway', 'zip': 10019, '_id': ObjectId('5c37f0668f455e12a086434d'), 'name': 'Random House', 'state': 'New York', 'date': '4/23/2002'}\n",
      "{'country': 'US', 'city': 'New York', 'street': '375 Hudson Street', 'zip': 10014, '_id': ObjectId('5c37f0668f455e12a086434e'), 'name': 'Random House', 'state': 'New York', 'date': '4/23/2002'}\n",
      "{'country': 'US', 'city': 'New York', 'street': '140 Broadway', 'zip': 10013, '_id': ObjectId('5c37f0668f455e12a086434f'), 'name': 'Penguin Publishers', 'state': 'New York', 'date': '1/19/1998'}\n",
      "{'country': 'US', 'city': 'Boston', 'street': '75 Arlington Street', 'zip': 2116, '_id': ObjectId('5c37f0668f455e12a0864350'), 'name': 'Addison-Wesley', 'state': 'Massachusetts', 'date': '3/1/1994'}\n",
      "{'_id': ObjectId('5c37f21d8f455e12a0864353'), 'dob': '3/2/1967', 'last name ': 'Steele', 'first name': 'Danielle'}\n",
      "{'_id': ObjectId('5c37f21d8f455e12a0864354'), 'dob': '1/10/1938', 'last name ': 'Knuth', 'first name': 'Donald'}\n",
      "{'_id': ObjectId('5c37f21d8f455e12a0864355'), 'dob': '2/28/1951', 'last name ': 'Kernigan', 'first name': 'Brian'}\n",
      "{'_id': ObjectId('5c37f21d8f455e12a0864356'), 'dob': '2/28/1951', 'last name ': 'Schild', 'first name': 'Herbert'}\n",
      "{'_id': ObjectId('5c37f21d8f455e12a0864357'), 'dob': '9/27/1957', 'last name ': 'Wall', 'first name': 'Larry'}\n",
      "{'country': 'US', 'password': 'ashley', 'zip': '02140', 'street': '170 Commonwealth Avenue', 'city': 'Boston', 'active': 'Y', '_id': ObjectId('5c37f2288f455e12a0864358'), 'username': 'ashley', 'dateOfCreation': '4/20/2014', 'state': 'Massachusetts'}\n",
      "{'country': 'US', 'password': 'ashley', 'zip': '02140', 'street': '10 Park Avenue', 'city': 'Boston', 'active': 'Y', '_id': ObjectId('5c37f2288f455e12a0864359'), 'username': 'ashley', 'dateOfCreation': '4/20/2014', 'state': 'Massachusetts'}\n",
      "{'country': 'US', 'password': 'jason', 'zip': '02145', 'street': '70 Peterbourough Street', 'city': 'Boston', 'active': 'Y', '_id': ObjectId('5c37f2288f455e12a086435a'), 'username': 'jason', 'dateOfCreation': '9/20/2015', 'state': 'Massachusetts'}\n",
      "{'country': 'US', 'password': 'jason', 'zip': '02143', 'street': '2 Downtown', 'city': 'Boston', 'active': 'Y', '_id': ObjectId('5c37f2288f455e12a086435b'), 'username': 'jason', 'dateOfCreation': '9/20/2015', 'state': 'Massachusetts'}\n",
      "{'country': 'US', 'password': 'admin', 'zip': '94303', 'street': '10 Geng Road', 'city': 'Palo Alto', 'active': 'Y', '_id': ObjectId('5c37f2288f455e12a086435c'), 'username': 'admin', 'dateOfCreation': '1/4/2014', 'state': 'California'}\n",
      "{'country': 'US', 'password': 'jen', 'zip': '94303', 'street': 'Geng Road', 'city': 'Palo Alto', 'active': 'N', '_id': ObjectId('5c37f2288f455e12a086435d'), 'username': 'jen', 'dateOfCreation': '11/25/2013', 'state': 'California'}\n",
      "{'country': '4/20/2015', 'password': 'rosie', 'zip': 'Massachusetts', 'street': 'Boston', 'city': '02140', 'active': '60 Park Avenue', '_id': ObjectId('5c37f2288f455e12a086435e'), 'username': 'rose', 'dateOfCreation': nan, 'state': 'US'}\n",
      "{'country': 'US', 'city': 'New York', 'street': '1475 Broadway', 'zip': 10019, '_id': ObjectId('5c37f2288f455e12a086435f'), 'name': 'Random House', 'state': 'New York', 'date': '4/23/2002'}\n",
      "{'country': 'US', 'city': 'New York', 'street': '375 Hudson Street', 'zip': 10014, '_id': ObjectId('5c37f2288f455e12a0864360'), 'name': 'Random House', 'state': 'New York', 'date': '4/23/2002'}\n",
      "{'country': 'US', 'city': 'New York', 'street': '140 Broadway', 'zip': 10013, '_id': ObjectId('5c37f2288f455e12a0864361'), 'name': 'Penguin Publishers', 'state': 'New York', 'date': '1/19/1998'}\n",
      "{'country': 'US', 'city': 'Boston', 'street': '75 Arlington Street', 'zip': 2116, '_id': ObjectId('5c37f2288f455e12a0864362'), 'name': 'Addison-Wesley', 'state': 'Massachusetts', 'date': '3/1/1994'}\n",
      "{'notebody1': 'Nice book. I have been traveling a lot, so I listened to the audio of this book. I really enjoyed it.', 'available': 'Y', 'pages': 2042, 'subjects1': 'Romance', '_id': ObjectId('5c37f5ff8f455e12a0864367'), 'notebody': 'Nice book. Must Read', 'author': 'Danielle Steel', 'subjects': 'Fiction', 'notesuser': 'jason', 'summary': 'Danielle Steel sweeps us from a Manhattan courtroom to the Deep South in her powerful new novel. It is a behind-closed-doors look into the heart of a family and a tale of crime and punishment.', 'notesuer1': 'jen', 'language': 'English', 'publisher': 'Random House', 'publisher1': 'Penguin Publishers', 'isbn': '303041974', 'title': 'Southern Lights'}\n",
      "{'notebody1': nan, 'available': 'Y', 'pages': 3524, 'subjects1': 'Algebra', '_id': ObjectId('5c37f5ff8f455e12a0864368'), 'notebody': nan, 'author': 'Donald Knuth', 'subjects': 'Mathematics', 'notesuser': nan, 'summary': 'Concrete Mathematics: A Foundation for Computer Science, by Ronald Graham, Donald Knuth, and Oren Patashnik, is a textbook that is widely used in computer-science departments', 'notesuer1': nan, 'language': 'English', 'publisher': 'Addison-Wesley', 'publisher1': nan, 'isbn': '0-203-03803-1', 'title': 'Concrete Mathematics'}\n"
     ]
    }
   ],
   "source": [
    "# + 2.1 Retrieve all information on all of the books (All data associated with the books the book data, the author data, the publisher's data).\n",
    "cursor = mydb.myCollection # choosing the collection you need\n",
    "\n",
    "for document in cursor.find():\n",
    "    print (document)"
   ]
  },
  {
   "cell_type": "code",
   "execution_count": 71,
   "metadata": {},
   "outputs": [
    {
     "name": "stdout",
     "output_type": "stream",
     "text": [
      "{'notebody1': 'Nice book. I have been traveling a lot, so I listened to the audio of this book. I really enjoyed it.', 'available': 'Y', 'pages': 2042, 'subjects1': 'Romance', '_id': ObjectId('5c37f5ff8f455e12a0864367'), 'notebody': 'Nice book. Must Read', 'author': 'Danielle Steel', 'subjects': 'Fiction', 'notesuser': 'jason', 'summary': 'Danielle Steel sweeps us from a Manhattan courtroom to the Deep South in her powerful new novel. It is a behind-closed-doors look into the heart of a family and a tale of crime and punishment.', 'notesuer1': 'jen', 'language': 'English', 'publisher': 'Random House', 'publisher1': 'Penguin Publishers', 'isbn': '303041974', 'title': 'Southern Lights'}\n"
     ]
    }
   ],
   "source": [
    "#+ 2.2 Retrieve all information on the books where the author =  'Danielle Steele'\n",
    "for document in cursor.find({'author': 'Danielle Steel'}):\n",
    "    print (document)"
   ]
  },
  {
   "cell_type": "code",
   "execution_count": 74,
   "metadata": {},
   "outputs": [
    {
     "name": "stdout",
     "output_type": "stream",
     "text": [
      "{'country': 'US', 'password': 'ashley', 'zip': '02140', 'street': '170 Commonwealth Avenue', 'city': 'Boston', 'active': 'Y', '_id': ObjectId('5c37f0668f455e12a0864346'), 'username': 'ashley', 'dateOfCreation': '4/20/2014', 'state': 'Massachusetts'}\n",
      "{'country': 'US', 'password': 'ashley', 'zip': '02140', 'street': '10 Park Avenue', 'city': 'Boston', 'active': 'Y', '_id': ObjectId('5c37f0668f455e12a0864347'), 'username': 'ashley', 'dateOfCreation': '4/20/2014', 'state': 'Massachusetts'}\n",
      "{'country': 'US', 'password': 'jason', 'zip': '02145', 'street': '70 Peterbourough Street', 'city': 'Boston', 'active': 'Y', '_id': ObjectId('5c37f0668f455e12a0864348'), 'username': 'jason', 'dateOfCreation': '9/20/2015', 'state': 'Massachusetts'}\n",
      "{'country': 'US', 'password': 'jason', 'zip': '02143', 'street': '2 Downtown', 'city': 'Boston', 'active': 'Y', '_id': ObjectId('5c37f0668f455e12a0864349'), 'username': 'jason', 'dateOfCreation': '9/20/2015', 'state': 'Massachusetts'}\n",
      "{'country': 'US', 'city': 'Boston', 'street': '75 Arlington Street', 'zip': 2116, '_id': ObjectId('5c37f0668f455e12a0864350'), 'name': 'Addison-Wesley', 'state': 'Massachusetts', 'date': '3/1/1994'}\n",
      "{'country': 'US', 'password': 'ashley', 'zip': '02140', 'street': '170 Commonwealth Avenue', 'city': 'Boston', 'active': 'Y', '_id': ObjectId('5c37f2288f455e12a0864358'), 'username': 'ashley', 'dateOfCreation': '4/20/2014', 'state': 'Massachusetts'}\n",
      "{'country': 'US', 'password': 'ashley', 'zip': '02140', 'street': '10 Park Avenue', 'city': 'Boston', 'active': 'Y', '_id': ObjectId('5c37f2288f455e12a0864359'), 'username': 'ashley', 'dateOfCreation': '4/20/2014', 'state': 'Massachusetts'}\n",
      "{'country': 'US', 'password': 'jason', 'zip': '02145', 'street': '70 Peterbourough Street', 'city': 'Boston', 'active': 'Y', '_id': ObjectId('5c37f2288f455e12a086435a'), 'username': 'jason', 'dateOfCreation': '9/20/2015', 'state': 'Massachusetts'}\n",
      "{'country': 'US', 'password': 'jason', 'zip': '02143', 'street': '2 Downtown', 'city': 'Boston', 'active': 'Y', '_id': ObjectId('5c37f2288f455e12a086435b'), 'username': 'jason', 'dateOfCreation': '9/20/2015', 'state': 'Massachusetts'}\n",
      "{'country': 'US', 'city': 'Boston', 'street': '75 Arlington Street', 'zip': 2116, '_id': ObjectId('5c37f2288f455e12a0864362'), 'name': 'Addison-Wesley', 'state': 'Massachusetts', 'date': '3/1/1994'}\n"
     ]
    }
   ],
   "source": [
    "#+ 2.3 Retrieve all information on the users where the user id creation is  > 15 DEC 2014 and the city = 'Boston' .\n",
    "for document in cursor.find({\"city\":\"Boston\"}):\n",
    "    print (document)"
   ]
  },
  {
   "cell_type": "code",
   "execution_count": null,
   "metadata": {},
   "outputs": [],
   "source": []
  }
 ],
 "metadata": {
  "kernelspec": {
   "display_name": "Python 3",
   "language": "python",
   "name": "python3"
  },
  "language_info": {
   "codemirror_mode": {
    "name": "ipython",
    "version": 3
   },
   "file_extension": ".py",
   "mimetype": "text/x-python",
   "name": "python",
   "nbconvert_exporter": "python",
   "pygments_lexer": "ipython3",
   "version": "3.5.5"
  }
 },
 "nbformat": 4,
 "nbformat_minor": 2
}
